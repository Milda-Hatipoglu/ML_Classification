{
 "cells": [
  {
   "cell_type": "markdown",
   "metadata": {},
   "source": [
    "# **Predicting 10-Year Coronary Heart Disease (CHD) Risk**  \n",
    "\n",
    "##### Cardiovascular diseases are the `leading` global `cause of death`, with `coronary heart disease (CHD)` as the most prevalent, accounting for `13% of global deaths` from 2000 to 2021 ([WHO](https://www.who.int/data/gho/data/themes/mortality-and-global-health-estimates/ghe-leading-causes-of-death)). For instance, in the U.S., nearly half of adults have at least one major CHD risk factor—high blood pressure, high cholesterol, or smoking ([NHLBI](https://www.nhlbi.nih.gov/health/coronary-heart-disease/risk-factors)). The `goal of the project` is to develop a `logistic regression model` to estimate an individual's `10-year CHD probability`, optimizing predictive accuracy, interpretability, and classification effectiveness. The analysis relies on a [Kaggle dataset](https://www.kaggle.com/datasets/christofel04/cardiovascular-study-dataset-predict-heart-disea), allegedly linked to the [Framingham Heart Study](https://www.framinghamheartstudy.org/fhs-about/), a cornerstone in cardiovascular research.\n",
    "  \n",
    "##### **Project Roadmap**  \n",
    "\n",
    "| **Section** | **Objective** |\n",
    "|------------|--------------|\n",
    "| 1. Data Cleaning | Load the dataset, inspect structure, and handle duplicates and missing values. |\n",
    "| 2. Exploratory Data Analysis (EDA) | Examine feature distributions, assess correlations, detect & analyze outliers, and evaluate multicollinearity. |\n",
    "| 3. Data Preprocessing | Encode categorical variables, split data into training and testing sets, apply appropriate scaling, handle outliers, and finalize preprocessing steps before modeling. |\n",
    "| 4. Modeling & Evaluation | Train a logistic regression model, optimize classification threshold, and validate performance on the test set. |\n",
    "| 5. Interpretation & Considerations | Analyze feature importance, assess generalizability, and discuss dataset limitations. |\n",
    "\n",
    "<br>\n",
    "\n",
    "---"
   ]
  },
  {
   "cell_type": "markdown",
   "metadata": {},
   "source": [
    "## **1. Data Cleaning**  \n",
    "\n",
    " ##### The dataset is `loaded and inspected` to understand its composition and detect `missing values` or `duplicates`. Missing data is handled using appropriate imputation techniques to minimize information loss. \n",
    "\n",
    "### **1.1. Imports & Configurations**"
   ]
  },
  {
   "cell_type": "code",
   "execution_count": 1181,
   "metadata": {},
   "outputs": [],
   "source": [
    "import numpy as np\n",
    "import pandas as pd\n",
    "import matplotlib.pyplot as plt\n",
    "import seaborn as sns\n",
    "\n",
    "from sklearn.model_selection import train_test_split, StratifiedKFold\n",
    "from sklearn.impute import SimpleImputer\n",
    "from sklearn.preprocessing import StandardScaler, RobustScaler, OneHotEncoder\n",
    "from sklearn.linear_model import LogisticRegression\n",
    "from sklearn.metrics import (\n",
    "    accuracy_score, precision_score, recall_score, f1_score,\n",
    "    roc_auc_score, roc_curve, confusion_matrix, classification_report,\n",
    "    precision_recall_curve\n",
    ")\n",
    "\n",
    "import statsmodels.api as sm\n",
    "from statsmodels.stats.outliers_influence import variance_inflation_factor\n",
    "\n",
    "pd.set_option(\"display.float_format\", \"{:.2f}\".format)\n",
    "pd.set_option(\"display.max_columns\", None)\n",
    "pd.set_option(\"display.max_rows\", 50)\n",
    "\n",
    "sns.set_theme(\n",
    "    style=\"ticks\",\n",
    "    palette=\"pastel\",\n",
    "    rc={\n",
    "        \"axes.titlesize\": 10,\n",
    "        \"axes.labelsize\": 9,\n",
    "        \"xtick.labelsize\": 8,\n",
    "        \"ytick.labelsize\": 8,\n",
    "        \"legend.fontsize\": 9,\n",
    "        \"axes.edgecolor\": \"lightblue\",\n",
    "    }\n",
    ")\n",
    "\n",
    "plt.rcParams[\"legend.frameon\"] = False  "
   ]
  },
  {
   "cell_type": "markdown",
   "metadata": {},
   "source": [
    "### **1.2. Load & Inspect Data**"
   ]
  },
  {
   "cell_type": "code",
   "execution_count": 1182,
   "metadata": {},
   "outputs": [
    {
     "name": "stdout",
     "output_type": "stream",
     "text": [
      "Dataset contains 3390 observations and 17 features.\n"
     ]
    }
   ],
   "source": [
    "df = pd.read_csv(\"train.csv\")\n",
    "print(f\"Dataset contains {df.shape[0]} observations and {df.shape[1]} features.\")"
   ]
  },
  {
   "cell_type": "code",
   "execution_count": 1183,
   "metadata": {},
   "outputs": [
    {
     "data": {
      "text/plain": [
       "id                   int64\n",
       "age                  int64\n",
       "education          float64\n",
       "sex                 object\n",
       "is_smoking          object\n",
       "cigsPerDay         float64\n",
       "BPMeds             float64\n",
       "prevalentStroke      int64\n",
       "prevalentHyp         int64\n",
       "diabetes             int64\n",
       "totChol            float64\n",
       "sysBP              float64\n",
       "diaBP              float64\n",
       "BMI                float64\n",
       "heartRate          float64\n",
       "glucose            float64\n",
       "TenYearCHD           int64\n",
       "dtype: object"
      ]
     },
     "execution_count": 1183,
     "metadata": {},
     "output_type": "execute_result"
    }
   ],
   "source": [
    "df.dtypes"
   ]
  },
  {
   "cell_type": "code",
   "execution_count": 1184,
   "metadata": {},
   "outputs": [
    {
     "data": {
      "text/html": [
       "<div>\n",
       "<style scoped>\n",
       "    .dataframe tbody tr th:only-of-type {\n",
       "        vertical-align: middle;\n",
       "    }\n",
       "\n",
       "    .dataframe tbody tr th {\n",
       "        vertical-align: top;\n",
       "    }\n",
       "\n",
       "    .dataframe thead th {\n",
       "        text-align: right;\n",
       "    }\n",
       "</style>\n",
       "<table border=\"1\" class=\"dataframe\">\n",
       "  <thead>\n",
       "    <tr style=\"text-align: right;\">\n",
       "      <th></th>\n",
       "      <th>id</th>\n",
       "      <th>age</th>\n",
       "      <th>education</th>\n",
       "      <th>sex</th>\n",
       "      <th>is_smoking</th>\n",
       "      <th>cigsPerDay</th>\n",
       "      <th>BPMeds</th>\n",
       "      <th>prevalentStroke</th>\n",
       "      <th>prevalentHyp</th>\n",
       "      <th>diabetes</th>\n",
       "      <th>totChol</th>\n",
       "      <th>sysBP</th>\n",
       "      <th>diaBP</th>\n",
       "      <th>BMI</th>\n",
       "      <th>heartRate</th>\n",
       "      <th>glucose</th>\n",
       "      <th>TenYearCHD</th>\n",
       "    </tr>\n",
       "  </thead>\n",
       "  <tbody>\n",
       "    <tr>\n",
       "      <th>134</th>\n",
       "      <td>134</td>\n",
       "      <td>64</td>\n",
       "      <td>1.00</td>\n",
       "      <td>F</td>\n",
       "      <td>NO</td>\n",
       "      <td>0.00</td>\n",
       "      <td>0.00</td>\n",
       "      <td>0</td>\n",
       "      <td>1</td>\n",
       "      <td>1</td>\n",
       "      <td>262.00</td>\n",
       "      <td>147.00</td>\n",
       "      <td>90.00</td>\n",
       "      <td>26.51</td>\n",
       "      <td>85.00</td>\n",
       "      <td>173.00</td>\n",
       "      <td>0</td>\n",
       "    </tr>\n",
       "    <tr>\n",
       "      <th>1764</th>\n",
       "      <td>1764</td>\n",
       "      <td>36</td>\n",
       "      <td>2.00</td>\n",
       "      <td>M</td>\n",
       "      <td>YES</td>\n",
       "      <td>20.00</td>\n",
       "      <td>0.00</td>\n",
       "      <td>0</td>\n",
       "      <td>1</td>\n",
       "      <td>0</td>\n",
       "      <td>248.00</td>\n",
       "      <td>135.00</td>\n",
       "      <td>94.50</td>\n",
       "      <td>36.52</td>\n",
       "      <td>65.00</td>\n",
       "      <td>85.00</td>\n",
       "      <td>0</td>\n",
       "    </tr>\n",
       "    <tr>\n",
       "      <th>2465</th>\n",
       "      <td>2465</td>\n",
       "      <td>61</td>\n",
       "      <td>1.00</td>\n",
       "      <td>M</td>\n",
       "      <td>YES</td>\n",
       "      <td>13.00</td>\n",
       "      <td>0.00</td>\n",
       "      <td>0</td>\n",
       "      <td>0</td>\n",
       "      <td>0</td>\n",
       "      <td>312.00</td>\n",
       "      <td>110.00</td>\n",
       "      <td>66.00</td>\n",
       "      <td>26.28</td>\n",
       "      <td>68.00</td>\n",
       "      <td>96.00</td>\n",
       "      <td>0</td>\n",
       "    </tr>\n",
       "    <tr>\n",
       "      <th>1987</th>\n",
       "      <td>1987</td>\n",
       "      <td>51</td>\n",
       "      <td>2.00</td>\n",
       "      <td>F</td>\n",
       "      <td>NO</td>\n",
       "      <td>0.00</td>\n",
       "      <td>0.00</td>\n",
       "      <td>0</td>\n",
       "      <td>0</td>\n",
       "      <td>0</td>\n",
       "      <td>233.00</td>\n",
       "      <td>120.00</td>\n",
       "      <td>81.00</td>\n",
       "      <td>28.25</td>\n",
       "      <td>80.00</td>\n",
       "      <td>75.00</td>\n",
       "      <td>0</td>\n",
       "    </tr>\n",
       "    <tr>\n",
       "      <th>1295</th>\n",
       "      <td>1295</td>\n",
       "      <td>59</td>\n",
       "      <td>4.00</td>\n",
       "      <td>M</td>\n",
       "      <td>YES</td>\n",
       "      <td>20.00</td>\n",
       "      <td>0.00</td>\n",
       "      <td>0</td>\n",
       "      <td>1</td>\n",
       "      <td>0</td>\n",
       "      <td>232.00</td>\n",
       "      <td>151.50</td>\n",
       "      <td>110.00</td>\n",
       "      <td>26.89</td>\n",
       "      <td>68.00</td>\n",
       "      <td>69.00</td>\n",
       "      <td>0</td>\n",
       "    </tr>\n",
       "  </tbody>\n",
       "</table>\n",
       "</div>"
      ],
      "text/plain": [
       "        id  age  education sex is_smoking  cigsPerDay  BPMeds  \\\n",
       "134    134   64       1.00   F         NO        0.00    0.00   \n",
       "1764  1764   36       2.00   M        YES       20.00    0.00   \n",
       "2465  2465   61       1.00   M        YES       13.00    0.00   \n",
       "1987  1987   51       2.00   F         NO        0.00    0.00   \n",
       "1295  1295   59       4.00   M        YES       20.00    0.00   \n",
       "\n",
       "      prevalentStroke  prevalentHyp  diabetes  totChol  sysBP  diaBP   BMI  \\\n",
       "134                 0             1         1   262.00 147.00  90.00 26.51   \n",
       "1764                0             1         0   248.00 135.00  94.50 36.52   \n",
       "2465                0             0         0   312.00 110.00  66.00 26.28   \n",
       "1987                0             0         0   233.00 120.00  81.00 28.25   \n",
       "1295                0             1         0   232.00 151.50 110.00 26.89   \n",
       "\n",
       "      heartRate  glucose  TenYearCHD  \n",
       "134       85.00   173.00           0  \n",
       "1764      65.00    85.00           0  \n",
       "2465      68.00    96.00           0  \n",
       "1987      80.00    75.00           0  \n",
       "1295      68.00    69.00           0  "
      ]
     },
     "execution_count": 1184,
     "metadata": {},
     "output_type": "execute_result"
    }
   ],
   "source": [
    "df.sample(5, random_state=42)"
   ]
  },
  {
   "cell_type": "markdown",
   "metadata": {},
   "source": [
    "- `education` is stored as `float64`, though it represents an ordinal category, requiring further review. `BPMeds`, a binary variable, is unexpectedly float64 and needs verification.\n",
    "\n",
    "- `sex` and `is_smoking` are categorical but stored as `object`, requiring conversion. `id` is a non-informative column and is dropped."
   ]
  },
  {
   "cell_type": "code",
   "execution_count": 1185,
   "metadata": {},
   "outputs": [],
   "source": [
    "df.drop(columns=[\"id\"], inplace=True)"
   ]
  },
  {
   "cell_type": "markdown",
   "metadata": {},
   "source": [
    "Checking `unique values per variable` helps ensure precise feature classification—nominal, ordinal, binary, or continuous—guiding appropriate encoding, scaling, and transformation strategies critical for model performance and interpretability."
   ]
  },
  {
   "cell_type": "code",
   "execution_count": 1186,
   "metadata": {},
   "outputs": [
    {
     "data": {
      "text/html": [
       "<div>\n",
       "<style scoped>\n",
       "    .dataframe tbody tr th:only-of-type {\n",
       "        vertical-align: middle;\n",
       "    }\n",
       "\n",
       "    .dataframe tbody tr th {\n",
       "        vertical-align: top;\n",
       "    }\n",
       "\n",
       "    .dataframe thead th {\n",
       "        text-align: right;\n",
       "    }\n",
       "</style>\n",
       "<table border=\"1\" class=\"dataframe\">\n",
       "  <thead>\n",
       "    <tr style=\"text-align: right;\">\n",
       "      <th></th>\n",
       "      <th>Unique Values</th>\n",
       "    </tr>\n",
       "  </thead>\n",
       "  <tbody>\n",
       "    <tr>\n",
       "      <th>age</th>\n",
       "      <td>39</td>\n",
       "    </tr>\n",
       "    <tr>\n",
       "      <th>education</th>\n",
       "      <td>4</td>\n",
       "    </tr>\n",
       "    <tr>\n",
       "      <th>sex</th>\n",
       "      <td>2</td>\n",
       "    </tr>\n",
       "    <tr>\n",
       "      <th>is_smoking</th>\n",
       "      <td>2</td>\n",
       "    </tr>\n",
       "    <tr>\n",
       "      <th>cigsPerDay</th>\n",
       "      <td>32</td>\n",
       "    </tr>\n",
       "    <tr>\n",
       "      <th>BPMeds</th>\n",
       "      <td>2</td>\n",
       "    </tr>\n",
       "    <tr>\n",
       "      <th>prevalentStroke</th>\n",
       "      <td>2</td>\n",
       "    </tr>\n",
       "    <tr>\n",
       "      <th>prevalentHyp</th>\n",
       "      <td>2</td>\n",
       "    </tr>\n",
       "    <tr>\n",
       "      <th>diabetes</th>\n",
       "      <td>2</td>\n",
       "    </tr>\n",
       "    <tr>\n",
       "      <th>totChol</th>\n",
       "      <td>240</td>\n",
       "    </tr>\n",
       "    <tr>\n",
       "      <th>sysBP</th>\n",
       "      <td>226</td>\n",
       "    </tr>\n",
       "    <tr>\n",
       "      <th>diaBP</th>\n",
       "      <td>142</td>\n",
       "    </tr>\n",
       "    <tr>\n",
       "      <th>BMI</th>\n",
       "      <td>1259</td>\n",
       "    </tr>\n",
       "    <tr>\n",
       "      <th>heartRate</th>\n",
       "      <td>68</td>\n",
       "    </tr>\n",
       "    <tr>\n",
       "      <th>glucose</th>\n",
       "      <td>132</td>\n",
       "    </tr>\n",
       "    <tr>\n",
       "      <th>TenYearCHD</th>\n",
       "      <td>2</td>\n",
       "    </tr>\n",
       "  </tbody>\n",
       "</table>\n",
       "</div>"
      ],
      "text/plain": [
       "                 Unique Values\n",
       "age                         39\n",
       "education                    4\n",
       "sex                          2\n",
       "is_smoking                   2\n",
       "cigsPerDay                  32\n",
       "BPMeds                       2\n",
       "prevalentStroke              2\n",
       "prevalentHyp                 2\n",
       "diabetes                     2\n",
       "totChol                    240\n",
       "sysBP                      226\n",
       "diaBP                      142\n",
       "BMI                       1259\n",
       "heartRate                   68\n",
       "glucose                    132\n",
       "TenYearCHD                   2"
      ]
     },
     "execution_count": 1186,
     "metadata": {},
     "output_type": "execute_result"
    }
   ],
   "source": [
    "df.nunique().to_frame(\"Unique Values\")"
   ]
  },
  {
   "cell_type": "code",
   "execution_count": 1187,
   "metadata": {},
   "outputs": [
    {
     "name": "stdout",
     "output_type": "stream",
     "text": [
      "education (float64): [2. 4. 1. 3.]\n",
      "sex (object): ['F' 'M']\n",
      "is_smoking (object): ['YES' 'NO']\n",
      "BPMeds (float64): [0. 1.]\n"
     ]
    }
   ],
   "source": [
    "for col in [\"education\", \"sex\", \"is_smoking\", \"BPMeds\"]:\n",
    "    unique_vals = df[col].dropna().unique()\n",
    "    print(f\"{col} ({df[col].dtype}): {unique_vals}\")"
   ]
  },
  {
   "cell_type": "markdown",
   "metadata": {},
   "source": [
    "**Feature Classification**\n",
    "\n",
    "| Type              | Features  | Notes |\n",
    "|--------------------------------|---------------|-----------|\n",
    "| Nominal Categorical        | `sex` (Gender: M/F), `is_smoking` (Smoking status: YES/NO) | Needs encoding into `binary categorical` in `int64` |\n",
    "| Ordinal Categorical        | `education` (Education level: 1-4, ordered but not continuous) | `education` needs casting to `int64`, treated as ordinal categorical |\n",
    "| Binary Categorical         | `BPMeds` (Blood pressure medication), `prevalentStroke` (Stroke history), `prevalentHyp` (Hypertension history), `diabetes` (Diabetes history), `TenYearCHD` (10-year CHD risk, target variable) | `BPMeds` needs casting to `int64`, treated as binary categorical |\n",
    "| Continuous Numeric                | `age` (Age in years, treated as continuous), `cigsPerDay` (Cigarettes per day), `totChol` (Total cholesterol level), `sysBP` (Systolic blood pressure), `diaBP` (Diastolic blood pressure), `BMI` (Body Mass Index), `heartRate` (Heart rate in beats per minute), `glucose` (Blood glucose level) | No changes needed, keep as `float64` |"
   ]
  },
  {
   "cell_type": "markdown",
   "metadata": {},
   "source": [
    "> ⚠️ **Feature value casting will be performed when addressing missing values, while categorical features will be encoded in data preprocessing.** \n"
   ]
  },
  {
   "cell_type": "markdown",
   "metadata": {},
   "source": [
    "### **1.3. Handling Duplicate Observations**"
   ]
  },
  {
   "cell_type": "code",
   "execution_count": 1188,
   "metadata": {},
   "outputs": [
    {
     "name": "stdout",
     "output_type": "stream",
     "text": [
      "\n",
      " This dataset has 0 duplicated observations.\n"
     ]
    }
   ],
   "source": [
    "print(f\"\\n This dataset has {df.duplicated().sum()} duplicated observations.\")"
   ]
  },
  {
   "cell_type": "markdown",
   "metadata": {},
   "source": [
    "### **1.4. Handling Missing Values**"
   ]
  },
  {
   "cell_type": "code",
   "execution_count": 1189,
   "metadata": {},
   "outputs": [
    {
     "name": "stdout",
     "output_type": "stream",
     "text": [
      "Total missing: 510 (0.94%)\n"
     ]
    },
    {
     "data": {
      "text/html": [
       "<div>\n",
       "<style scoped>\n",
       "    .dataframe tbody tr th:only-of-type {\n",
       "        vertical-align: middle;\n",
       "    }\n",
       "\n",
       "    .dataframe tbody tr th {\n",
       "        vertical-align: top;\n",
       "    }\n",
       "\n",
       "    .dataframe thead th {\n",
       "        text-align: right;\n",
       "    }\n",
       "</style>\n",
       "<table border=\"1\" class=\"dataframe\">\n",
       "  <thead>\n",
       "    <tr style=\"text-align: right;\">\n",
       "      <th></th>\n",
       "      <th>Missing Values</th>\n",
       "      <th>Percentage</th>\n",
       "    </tr>\n",
       "  </thead>\n",
       "  <tbody>\n",
       "    <tr>\n",
       "      <th>glucose</th>\n",
       "      <td>304</td>\n",
       "      <td>8.97</td>\n",
       "    </tr>\n",
       "    <tr>\n",
       "      <th>education</th>\n",
       "      <td>87</td>\n",
       "      <td>2.57</td>\n",
       "    </tr>\n",
       "    <tr>\n",
       "      <th>BPMeds</th>\n",
       "      <td>44</td>\n",
       "      <td>1.30</td>\n",
       "    </tr>\n",
       "    <tr>\n",
       "      <th>totChol</th>\n",
       "      <td>38</td>\n",
       "      <td>1.12</td>\n",
       "    </tr>\n",
       "    <tr>\n",
       "      <th>cigsPerDay</th>\n",
       "      <td>22</td>\n",
       "      <td>0.65</td>\n",
       "    </tr>\n",
       "    <tr>\n",
       "      <th>BMI</th>\n",
       "      <td>14</td>\n",
       "      <td>0.41</td>\n",
       "    </tr>\n",
       "    <tr>\n",
       "      <th>heartRate</th>\n",
       "      <td>1</td>\n",
       "      <td>0.03</td>\n",
       "    </tr>\n",
       "  </tbody>\n",
       "</table>\n",
       "</div>"
      ],
      "text/plain": [
       "            Missing Values  Percentage\n",
       "glucose                304        8.97\n",
       "education               87        2.57\n",
       "BPMeds                  44        1.30\n",
       "totChol                 38        1.12\n",
       "cigsPerDay              22        0.65\n",
       "BMI                     14        0.41\n",
       "heartRate                1        0.03"
      ]
     },
     "metadata": {},
     "output_type": "display_data"
    }
   ],
   "source": [
    "missing = df.isnull().sum().pipe(lambda x: x[x > 0].sort_values(ascending=False))\n",
    "\n",
    "print(f\"Total missing: {missing.sum()} ({(missing.sum() / df.size * 100):.2f}%)\")\n",
    "\n",
    "display(missing.to_frame(\"Missing Values\").assign(Percentage=lambda x: (x / len(df) * 100).round(2)))\n"
   ]
  },
  {
   "cell_type": "markdown",
   "metadata": {},
   "source": [
    "- The dataset has missing values in **7 features**, with `glucose` missing the most **(8.97%)**, requiring careful consideration in terms of diabetic and non-diabetic study participants. `cigsPerDay` will also have to get looked at due to `smoker` and `non-smoker` participants being involved in the study. \n",
    "\n",
    "- Other variables, including `education`, `BPMeds`, `totChol`, and `BMI`, have **low missingness (<3%)**, making simple median or mode imputation suitable. `heartRate` has only **one missing value (0.03%)** and can be **safely dropped or imputed without impact**."
   ]
  },
  {
   "cell_type": "markdown",
   "metadata": {},
   "source": [
    "#### **1.4.1. Categorical Features (`education`, `BPMeds`)**\n",
    "\n",
    "`Mode imputation` is best for categorical variables since it replaces missing values with the most common category."
   ]
  },
  {
   "cell_type": "code",
   "execution_count": 1190,
   "metadata": {},
   "outputs": [],
   "source": [
    "mode_imputer = SimpleImputer(strategy=\"most_frequent\")\n",
    "\n",
    "df[[\"education\", \"BPMeds\"]] = mode_imputer.fit_transform(df[[\"education\", \"BPMeds\"]])\n",
    "\n",
    "df[\"education\"] = df[\"education\"].astype(int)\n",
    "df[\"BPMeds\"] = df[\"BPMeds\"].astype(int)"
   ]
  },
  {
   "cell_type": "markdown",
   "metadata": {},
   "source": [
    "#### **1.4.2. Numeric Features (`glucose`, `cigsPerDay`, `totChol`, `BMI`, `heartRate`**\n",
    "\n",
    "Misssing values in `numerical variables` are handled with `median imputation`. Nevertheless, `glucose` and `cigsPerDay` are investigated further to check whether `group-wise median imputation` would be useful to preserve the natural distribution of glucose levels across different health conditions and different smoking habits. \n",
    "\n",
    "In this case, instead of a single median, separate median values for `diabetic` and `non-diabetic`, as well as `smoker` and `non-smoker` individuals, might be computed. Let's check `glucose` and `cigsPerday` missing values distribution by category to evaluate further steps."
   ]
  },
  {
   "cell_type": "code",
   "execution_count": 1191,
   "metadata": {},
   "outputs": [
    {
     "data": {
      "text/plain": [
       "is_smoking\n",
       "NO      0\n",
       "YES    22\n",
       "Name: cigsPerDay, dtype: int64"
      ]
     },
     "execution_count": 1191,
     "metadata": {},
     "output_type": "execute_result"
    }
   ],
   "source": [
    "missing_cigs = df.groupby(\"is_smoking\")[\"cigsPerDay\"].apply(lambda x: x.isnull().sum())\n",
    "missing_cigs"
   ]
  },
  {
   "cell_type": "code",
   "execution_count": 1192,
   "metadata": {},
   "outputs": [
    {
     "data": {
      "text/plain": [
       "diabetes\n",
       "0    301\n",
       "1      3\n",
       "Name: glucose, dtype: int64"
      ]
     },
     "execution_count": 1192,
     "metadata": {},
     "output_type": "execute_result"
    }
   ],
   "source": [
    "missing_glucose = df.groupby(\"diabetes\")[\"glucose\"].apply(lambda x: x.isnull().sum())\n",
    "missing_glucose"
   ]
  },
  {
   "cell_type": "markdown",
   "metadata": {},
   "source": [
    "- Group-wise median imputation is not required for `cigsPerDay` since missing values are present only among smokers. Instead, the median for smokers will be imputed using `SimpleImputer`\n",
    " \n",
    "- In contrast, missing `glucose` values appear in both `diabetic` and `non-diabetic` groups. Therefore, group-wise median imputation for this feature could be prefferable."
   ]
  },
  {
   "cell_type": "code",
   "execution_count": 1193,
   "metadata": {},
   "outputs": [],
   "source": [
    "df[\"glucose\"] = df[\"glucose\"].fillna(df.groupby(\"diabetes\")[\"glucose\"].transform(\"median\"))"
   ]
  },
  {
   "cell_type": "markdown",
   "metadata": {},
   "source": [
    "The remaining numerical variables are handled with `SimpleImputer`."
   ]
  },
  {
   "cell_type": "code",
   "execution_count": 1194,
   "metadata": {},
   "outputs": [],
   "source": [
    "median_imputer = SimpleImputer(strategy=\"median\")\n",
    "df[[\"cigsPerDay\", \"totChol\", \"BMI\", \"heartRate\"]] = median_imputer.fit_transform(df[[\"cigsPerDay\", \"totChol\", \"BMI\", \"heartRate\"]])"
   ]
  },
  {
   "cell_type": "code",
   "execution_count": 1195,
   "metadata": {},
   "outputs": [
    {
     "data": {
      "text/plain": [
       "age                0\n",
       "education          0\n",
       "sex                0\n",
       "is_smoking         0\n",
       "cigsPerDay         0\n",
       "BPMeds             0\n",
       "prevalentStroke    0\n",
       "prevalentHyp       0\n",
       "diabetes           0\n",
       "totChol            0\n",
       "sysBP              0\n",
       "diaBP              0\n",
       "BMI                0\n",
       "heartRate          0\n",
       "glucose            0\n",
       "TenYearCHD         0\n",
       "dtype: int64"
      ]
     },
     "execution_count": 1195,
     "metadata": {},
     "output_type": "execute_result"
    }
   ],
   "source": [
    "final_missing_check = df.isnull().sum()\n",
    "final_missing_check"
   ]
  },
  {
   "cell_type": "markdown",
   "metadata": {},
   "source": [
    "No more missing values in the dataset! ✅ "
   ]
  },
  {
   "cell_type": "markdown",
   "metadata": {},
   "source": [
    "### **1.5. Encoding Categorical Variables**"
   ]
  },
  {
   "cell_type": "code",
   "execution_count": 1196,
   "metadata": {},
   "outputs": [
    {
     "data": {
      "text/html": [
       "<div>\n",
       "<style scoped>\n",
       "    .dataframe tbody tr th:only-of-type {\n",
       "        vertical-align: middle;\n",
       "    }\n",
       "\n",
       "    .dataframe tbody tr th {\n",
       "        vertical-align: top;\n",
       "    }\n",
       "\n",
       "    .dataframe thead th {\n",
       "        text-align: right;\n",
       "    }\n",
       "</style>\n",
       "<table border=\"1\" class=\"dataframe\">\n",
       "  <thead>\n",
       "    <tr style=\"text-align: right;\">\n",
       "      <th></th>\n",
       "      <th>age</th>\n",
       "      <th>education</th>\n",
       "      <th>is_smoking</th>\n",
       "      <th>cigsPerDay</th>\n",
       "      <th>BPMeds</th>\n",
       "      <th>prevalentStroke</th>\n",
       "      <th>prevalentHyp</th>\n",
       "      <th>diabetes</th>\n",
       "      <th>totChol</th>\n",
       "      <th>sysBP</th>\n",
       "      <th>diaBP</th>\n",
       "      <th>BMI</th>\n",
       "      <th>heartRate</th>\n",
       "      <th>glucose</th>\n",
       "      <th>TenYearCHD</th>\n",
       "      <th>male</th>\n",
       "    </tr>\n",
       "  </thead>\n",
       "  <tbody>\n",
       "    <tr>\n",
       "      <th>0</th>\n",
       "      <td>64</td>\n",
       "      <td>2</td>\n",
       "      <td>1</td>\n",
       "      <td>3.00</td>\n",
       "      <td>0</td>\n",
       "      <td>0</td>\n",
       "      <td>0</td>\n",
       "      <td>0</td>\n",
       "      <td>221.00</td>\n",
       "      <td>148.00</td>\n",
       "      <td>85.00</td>\n",
       "      <td>25.38</td>\n",
       "      <td>90.00</td>\n",
       "      <td>80.00</td>\n",
       "      <td>1</td>\n",
       "      <td>0</td>\n",
       "    </tr>\n",
       "    <tr>\n",
       "      <th>1</th>\n",
       "      <td>36</td>\n",
       "      <td>4</td>\n",
       "      <td>0</td>\n",
       "      <td>0.00</td>\n",
       "      <td>0</td>\n",
       "      <td>0</td>\n",
       "      <td>1</td>\n",
       "      <td>0</td>\n",
       "      <td>212.00</td>\n",
       "      <td>168.00</td>\n",
       "      <td>98.00</td>\n",
       "      <td>29.77</td>\n",
       "      <td>72.00</td>\n",
       "      <td>75.00</td>\n",
       "      <td>0</td>\n",
       "      <td>1</td>\n",
       "    </tr>\n",
       "    <tr>\n",
       "      <th>2</th>\n",
       "      <td>46</td>\n",
       "      <td>1</td>\n",
       "      <td>1</td>\n",
       "      <td>10.00</td>\n",
       "      <td>0</td>\n",
       "      <td>0</td>\n",
       "      <td>0</td>\n",
       "      <td>0</td>\n",
       "      <td>250.00</td>\n",
       "      <td>116.00</td>\n",
       "      <td>71.00</td>\n",
       "      <td>20.35</td>\n",
       "      <td>88.00</td>\n",
       "      <td>94.00</td>\n",
       "      <td>0</td>\n",
       "      <td>0</td>\n",
       "    </tr>\n",
       "    <tr>\n",
       "      <th>3</th>\n",
       "      <td>50</td>\n",
       "      <td>1</td>\n",
       "      <td>1</td>\n",
       "      <td>20.00</td>\n",
       "      <td>0</td>\n",
       "      <td>0</td>\n",
       "      <td>1</td>\n",
       "      <td>0</td>\n",
       "      <td>233.00</td>\n",
       "      <td>158.00</td>\n",
       "      <td>88.00</td>\n",
       "      <td>28.26</td>\n",
       "      <td>68.00</td>\n",
       "      <td>94.00</td>\n",
       "      <td>1</td>\n",
       "      <td>1</td>\n",
       "    </tr>\n",
       "    <tr>\n",
       "      <th>4</th>\n",
       "      <td>64</td>\n",
       "      <td>1</td>\n",
       "      <td>1</td>\n",
       "      <td>30.00</td>\n",
       "      <td>0</td>\n",
       "      <td>0</td>\n",
       "      <td>0</td>\n",
       "      <td>0</td>\n",
       "      <td>241.00</td>\n",
       "      <td>136.50</td>\n",
       "      <td>85.00</td>\n",
       "      <td>26.42</td>\n",
       "      <td>70.00</td>\n",
       "      <td>77.00</td>\n",
       "      <td>0</td>\n",
       "      <td>0</td>\n",
       "    </tr>\n",
       "  </tbody>\n",
       "</table>\n",
       "</div>"
      ],
      "text/plain": [
       "   age  education  is_smoking  cigsPerDay  BPMeds  prevalentStroke  \\\n",
       "0   64          2           1        3.00       0                0   \n",
       "1   36          4           0        0.00       0                0   \n",
       "2   46          1           1       10.00       0                0   \n",
       "3   50          1           1       20.00       0                0   \n",
       "4   64          1           1       30.00       0                0   \n",
       "\n",
       "   prevalentHyp  diabetes  totChol  sysBP  diaBP   BMI  heartRate  glucose  \\\n",
       "0             0         0   221.00 148.00  85.00 25.38      90.00    80.00   \n",
       "1             1         0   212.00 168.00  98.00 29.77      72.00    75.00   \n",
       "2             0         0   250.00 116.00  71.00 20.35      88.00    94.00   \n",
       "3             1         0   233.00 158.00  88.00 28.26      68.00    94.00   \n",
       "4             0         0   241.00 136.50  85.00 26.42      70.00    77.00   \n",
       "\n",
       "   TenYearCHD  male  \n",
       "0           1     0  \n",
       "1           0     1  \n",
       "2           0     0  \n",
       "3           1     1  \n",
       "4           0     0  "
      ]
     },
     "execution_count": 1196,
     "metadata": {},
     "output_type": "execute_result"
    }
   ],
   "source": [
    "df[\"male\"] = df[\"sex\"].map({\"F\": 0, \"M\": 1}).astype(int)\n",
    "df[\"is_smoking\"] = df[\"is_smoking\"].map({\"NO\": 0, \"YES\": 1}).astype(int)\n",
    "\n",
    "df.drop(columns=[\"sex\"], inplace=True)\n",
    "\n",
    "df.head()"
   ]
  },
  {
   "cell_type": "markdown",
   "metadata": {},
   "source": [
    "---"
   ]
  },
  {
   "cell_type": "markdown",
   "metadata": {},
   "source": [
    "## **2. Exploratory Data Analysis**"
   ]
  },
  {
   "cell_type": "markdown",
   "metadata": {},
   "source": [
    "### **2.1. Target Variable Distribution (`TenYearCHD`)**"
   ]
  },
  {
   "cell_type": "code",
   "execution_count": 1197,
   "metadata": {},
   "outputs": [
    {
     "data": {
      "image/png": "[encoded data removed]",
      "text/plain": [
       "<Figure size 600x400 with 1 Axes>"
      ]
     },
     "metadata": {},
     "output_type": "display_data"
    }
   ],
   "source": [
    "plt.figure()\n",
    "ax = sns.countplot(x=\"TenYearCHD\", data=df, hue=\"TenYearCHD\", palette=[\"lightblue\", \"pink\"], legend=False)\n",
    "\n",
    "ax.set_xticks([0, 1])\n",
    "ax.set_xticklabels([\"No\", \"Yes\"])\n",
    "\n",
    "for p in ax.patches:\n",
    "    ax.annotate(f\"{p.get_height():.0f} ({p.get_height() / len(df) * 100:.0f}%)\", \n",
    "                (p.get_x() + p.get_width() / 2., p.get_height()), \n",
    "                ha=\"center\", va=\"bottom\", fontsize=10)\n",
    "\n",
    "plt.title(\"CHD Distribution\")\n",
    "plt.xlabel(\"CHD Outcome\")\n",
    "plt.ylabel(\"Count\")\n",
    "\n",
    "plt.show()"
   ]
  },
  {
   "cell_type": "markdown",
   "metadata": {},
   "source": [
    "- The target variable `TenYearCHD` is `moderately imbalanced`, with 85% of individuals not developing CHD and 15% experiencing it within ten years. This imbalance makes `accuracy` an unreliable metric, as a model predicting only CHD = 0 for all cases would still achieve 85% accuracy while failing to identify any actual CHD cases. \n",
    "\n",
    "- Therefore, the evaluation will focus on `precision`, `recall`, and `F1-score`, among others, ensuring the model correctly identifies CHD cases (`recall`/`sensitivity`) while minimizing false positives (`precision`) to balance medical risk and predictive accuracy. \n",
    "\n",
    "- If the model demonstrates low recall, adjustments such as `resampling` techniques (e.g., SMOTE) or `class weighting` (`class_weight=\"balanced\"`) may be considered, but only if necessary based on evaluation metrics during model optimization.\n",
    "\n",
    "\n"
   ]
  },
  {
   "cell_type": "markdown",
   "metadata": {},
   "source": [
    "### **2.2. Independent Variable Distributions**"
   ]
  },
  {
   "cell_type": "markdown",
   "metadata": {},
   "source": [
    "##### **2.2.1. Categorical Features**"
   ]
  },
  {
   "cell_type": "code",
   "execution_count": 1198,
   "metadata": {},
   "outputs": [
    {
     "name": "stderr",
     "output_type": "stream",
     "text": [
      "C:\\Users\\milda\\AppData\\Local\\Temp\\ipykernel_5660\\1051390010.py:7: FutureWarning: \n",
      "\n",
      "Passing `palette` without assigning `hue` is deprecated and will be removed in v0.14.0. Assign the `x` variable to `hue` and set `legend=False` for the same effect.\n",
      "\n",
      "  sns.countplot(x=df[col], palette=\"coolwarm\")\n"
     ]
    },
    {
     "ename": "KeyError",
     "evalue": "'sex'",
     "output_type": "error",
     "traceback": [
      "\u001b[1;31m---------------------------------------------------------------------------\u001b[0m",
      "\u001b[1;31mKeyError\u001b[0m                                  Traceback (most recent call last)",
      "File \u001b[1;32mc:\\Users\\milda\\anaconda3\\envs\\M4S4_ML\\Lib\\site-packages\\pandas\\core\\indexes\\base.py:3805\u001b[0m, in \u001b[0;36mIndex.get_loc\u001b[1;34m(self, key)\u001b[0m\n\u001b[0;32m   3804\u001b[0m \u001b[38;5;28;01mtry\u001b[39;00m:\n\u001b[1;32m-> 3805\u001b[0m     \u001b[38;5;28;01mreturn\u001b[39;00m \u001b[38;5;28;43mself\u001b[39;49m\u001b[38;5;241;43m.\u001b[39;49m\u001b[43m_engine\u001b[49m\u001b[38;5;241;43m.\u001b[39;49m\u001b[43mget_loc\u001b[49m\u001b[43m(\u001b[49m\u001b[43mcasted_key\u001b[49m\u001b[43m)\u001b[49m\n\u001b[0;32m   3806\u001b[0m \u001b[38;5;28;01mexcept\u001b[39;00m \u001b[38;5;167;01mKeyError\u001b[39;00m \u001b[38;5;28;01mas\u001b[39;00m err:\n",
      "File \u001b[1;32mindex.pyx:167\u001b[0m, in \u001b[0;36mpandas._libs.index.IndexEngine.get_loc\u001b[1;34m()\u001b[0m\n",
      "File \u001b[1;32mindex.pyx:196\u001b[0m, in \u001b[0;36mpandas._libs.index.IndexEngine.get_loc\u001b[1;34m()\u001b[0m\n",
      "File \u001b[1;32mpandas\\\\_libs\\\\hashtable_class_helper.pxi:7081\u001b[0m, in \u001b[0;36mpandas._libs.hashtable.PyObjectHashTable.get_item\u001b[1;34m()\u001b[0m\n",
      "File \u001b[1;32mpandas\\\\_libs\\\\hashtable_class_helper.pxi:7089\u001b[0m, in \u001b[0;36mpandas._libs.hashtable.PyObjectHashTable.get_item\u001b[1;34m()\u001b[0m\n",
      "\u001b[1;31mKeyError\u001b[0m: 'sex'",
      "\nThe above exception was the direct cause of the following exception:\n",
      "\u001b[1;31mKeyError\u001b[0m                                  Traceback (most recent call last)",
      "Cell \u001b[1;32mIn[1198], line 7\u001b[0m\n\u001b[0;32m      5\u001b[0m \u001b[38;5;28;01mfor\u001b[39;00m i, col \u001b[38;5;129;01min\u001b[39;00m \u001b[38;5;28menumerate\u001b[39m(categorical_features, \u001b[38;5;241m1\u001b[39m):\n\u001b[0;32m      6\u001b[0m     plt\u001b[38;5;241m.\u001b[39msubplot(\u001b[38;5;241m3\u001b[39m, \u001b[38;5;241m3\u001b[39m, i)\n\u001b[1;32m----> 7\u001b[0m     sns\u001b[38;5;241m.\u001b[39mcountplot(x\u001b[38;5;241m=\u001b[39m\u001b[43mdf\u001b[49m\u001b[43m[\u001b[49m\u001b[43mcol\u001b[49m\u001b[43m]\u001b[49m, palette\u001b[38;5;241m=\u001b[39m\u001b[38;5;124m\"\u001b[39m\u001b[38;5;124mcoolwarm\u001b[39m\u001b[38;5;124m\"\u001b[39m)\n\u001b[0;32m      8\u001b[0m     plt\u001b[38;5;241m.\u001b[39mtitle(\u001b[38;5;124mf\u001b[39m\u001b[38;5;124m\"\u001b[39m\u001b[38;5;124mDistribution of \u001b[39m\u001b[38;5;132;01m{\u001b[39;00mcol\u001b[38;5;132;01m}\u001b[39;00m\u001b[38;5;124m\"\u001b[39m)\n\u001b[0;32m      9\u001b[0m     plt\u001b[38;5;241m.\u001b[39mxticks(rotation\u001b[38;5;241m=\u001b[39m\u001b[38;5;241m45\u001b[39m)  \u001b[38;5;66;03m# Rotate labels for readability if needed\u001b[39;00m\n",
      "File \u001b[1;32mc:\\Users\\milda\\anaconda3\\envs\\M4S4_ML\\Lib\\site-packages\\pandas\\core\\frame.py:4102\u001b[0m, in \u001b[0;36mDataFrame.__getitem__\u001b[1;34m(self, key)\u001b[0m\n\u001b[0;32m   4100\u001b[0m \u001b[38;5;28;01mif\u001b[39;00m \u001b[38;5;28mself\u001b[39m\u001b[38;5;241m.\u001b[39mcolumns\u001b[38;5;241m.\u001b[39mnlevels \u001b[38;5;241m>\u001b[39m \u001b[38;5;241m1\u001b[39m:\n\u001b[0;32m   4101\u001b[0m     \u001b[38;5;28;01mreturn\u001b[39;00m \u001b[38;5;28mself\u001b[39m\u001b[38;5;241m.\u001b[39m_getitem_multilevel(key)\n\u001b[1;32m-> 4102\u001b[0m indexer \u001b[38;5;241m=\u001b[39m \u001b[38;5;28;43mself\u001b[39;49m\u001b[38;5;241;43m.\u001b[39;49m\u001b[43mcolumns\u001b[49m\u001b[38;5;241;43m.\u001b[39;49m\u001b[43mget_loc\u001b[49m\u001b[43m(\u001b[49m\u001b[43mkey\u001b[49m\u001b[43m)\u001b[49m\n\u001b[0;32m   4103\u001b[0m \u001b[38;5;28;01mif\u001b[39;00m is_integer(indexer):\n\u001b[0;32m   4104\u001b[0m     indexer \u001b[38;5;241m=\u001b[39m [indexer]\n",
      "File \u001b[1;32mc:\\Users\\milda\\anaconda3\\envs\\M4S4_ML\\Lib\\site-packages\\pandas\\core\\indexes\\base.py:3812\u001b[0m, in \u001b[0;36mIndex.get_loc\u001b[1;34m(self, key)\u001b[0m\n\u001b[0;32m   3807\u001b[0m     \u001b[38;5;28;01mif\u001b[39;00m \u001b[38;5;28misinstance\u001b[39m(casted_key, \u001b[38;5;28mslice\u001b[39m) \u001b[38;5;129;01mor\u001b[39;00m (\n\u001b[0;32m   3808\u001b[0m         \u001b[38;5;28misinstance\u001b[39m(casted_key, abc\u001b[38;5;241m.\u001b[39mIterable)\n\u001b[0;32m   3809\u001b[0m         \u001b[38;5;129;01mand\u001b[39;00m \u001b[38;5;28many\u001b[39m(\u001b[38;5;28misinstance\u001b[39m(x, \u001b[38;5;28mslice\u001b[39m) \u001b[38;5;28;01mfor\u001b[39;00m x \u001b[38;5;129;01min\u001b[39;00m casted_key)\n\u001b[0;32m   3810\u001b[0m     ):\n\u001b[0;32m   3811\u001b[0m         \u001b[38;5;28;01mraise\u001b[39;00m InvalidIndexError(key)\n\u001b[1;32m-> 3812\u001b[0m     \u001b[38;5;28;01mraise\u001b[39;00m \u001b[38;5;167;01mKeyError\u001b[39;00m(key) \u001b[38;5;28;01mfrom\u001b[39;00m\u001b[38;5;250m \u001b[39m\u001b[38;5;21;01merr\u001b[39;00m\n\u001b[0;32m   3813\u001b[0m \u001b[38;5;28;01mexcept\u001b[39;00m \u001b[38;5;167;01mTypeError\u001b[39;00m:\n\u001b[0;32m   3814\u001b[0m     \u001b[38;5;66;03m# If we have a listlike key, _check_indexing_error will raise\u001b[39;00m\n\u001b[0;32m   3815\u001b[0m     \u001b[38;5;66;03m#  InvalidIndexError. Otherwise we fall through and re-raise\u001b[39;00m\n\u001b[0;32m   3816\u001b[0m     \u001b[38;5;66;03m#  the TypeError.\u001b[39;00m\n\u001b[0;32m   3817\u001b[0m     \u001b[38;5;28mself\u001b[39m\u001b[38;5;241m.\u001b[39m_check_indexing_error(key)\n",
      "\u001b[1;31mKeyError\u001b[0m: 'sex'"
     ]
    },
    {
     "data": {
      "image/png": "[encoded data removed]",
      "text/plain": [
       "<Figure size 1500x1000 with 2 Axes>"
      ]
     },
     "metadata": {},
     "output_type": "display_data"
    }
   ],
   "source": [
    "categorical_features = [\"education\", \"sex\", \"is_smoking\", \"BPMeds\", \"prevalentStroke\", \"prevalentHyp\", \"diabetes\"]\n",
    "\n",
    "plt.figure(figsize=(15, 10))\n",
    "\n",
    "for i, col in enumerate(categorical_features, 1):\n",
    "    plt.subplot(3, 3, i)\n",
    "    sns.countplot(x=df[col], palette=\"coolwarm\")\n",
    "    plt.title(f\"Distribution of {col}\")\n",
    "    plt.xticks(rotation=45)  # Rotate labels for readability if needed\n",
    "\n",
    "plt.tight_layout()\n",
    "plt.show()"
   ]
  },
  {
   "cell_type": "markdown",
   "metadata": {},
   "source": [
    "##### **2.2.2. Numerical Variables**"
   ]
  },
  {
   "cell_type": "code",
   "execution_count": null,
   "metadata": {},
   "outputs": [],
   "source": [
    "numerical_features = [\"age\", \"cigsPerDay\", \"totChol\", \"sysBP\", \"diaBP\", \"BMI\", \"heartRate\", \"glucose\"]\n",
    "\n",
    "skewness_values = df[numerical_features].skew()\n",
    "\n",
    "plt.figure(figsize=(20, 6))\n",
    "\n",
    "for i, col in enumerate(numerical_features, 1):\n",
    "    plt.subplot(2, 8, i)\n",
    "    sns.histplot(df[col], bins=50, kde=True, color=\"steelblue\")\n",
    "    skewness = skewness_values[col]\n",
    "    plt.title(f\"Distribution of {col}\\nSkewness: {skewness:.2f}\")\n",
    "\n",
    "    plt.subplot(2, 8, i + 8)  # Shifts to second row\n",
    "    sns.boxplot(x=df[col], orient=\"h\", color=\"lightgrey\")\n",
    "    plt.title(f\"Boxplot of {col}\")\n",
    "\n",
    "\n",
    "plt.tight_layout()\n",
    "plt.show()"
   ]
  },
  {
   "cell_type": "markdown",
   "metadata": {},
   "source": [
    "- **High positive skewness** (>1), indicating strong asymmetry was observed in terms of `glucose` (6.40), `cigsPerDay` (1.23), `sysBP` (1.18), and `BMI` (1.03), which have long right tails with a small subset with extreme values that may negatively influence model estimation. Skewness in some of the features may stem from underlying subgroups, such as `diabetics` vs. `non-diabetics`, `smokers` vs. `non-smokers`, and `hypertensive` vs. `non-hypertensive` individuals. Examining distributions within these groups can provide deeper insights.\n",
    "\n",
    "- **Moderate positive skewness** (from 0.5 to 1) was observed in `totChol` (0.95), `diaBP` (0.72) and `heartRate` (0.68), while `age` (0.23) followed a rather **symmetrical** distribution. "
   ]
  },
  {
   "cell_type": "code",
   "execution_count": null,
   "metadata": {},
   "outputs": [],
   "source": [
    "subgroup_features = {\n",
    "    \"glucose\": \"diabetes\",\n",
    "    \"cigsPerDay\": \"is_smoking\",\n",
    "    \"sysBP\": \"prevalentHyp\",\n",
    "}\n",
    "\n",
    "plt.figure(figsize=(20, 4))\n",
    "\n",
    "for i, (feature, group) in enumerate(subgroup_features.items(), 1):\n",
    "    plt.subplot(1, 3, i)\n",
    "    sns.boxplot(x=df[group], y=df[feature], hue=df[group], palette=[\"lightblue\", \"pink\"], legend=False)\n",
    "    \n",
    "    plt.xticks([0, 1], [\"No\", \"Yes\"])\n",
    "    plt.title(f\"{feature} distribution by {group}\")\n",
    "\n",
    "plt.tight_layout()\n",
    "plt.show()"
   ]
  },
  {
   "cell_type": "markdown",
   "metadata": {},
   "source": [
    "- `Diabetics` exhibit substantially higher glucose levels compared to `non-diabetics`, with a wider spread and more extreme values. However, it seems there are **extreme outliers** of `glucose` even in the context of the `diabetic` group.\n",
    "\n",
    "- `Non-smokers` consistently have zero cigarette consumption, while `smokers` display a right-skewed distribution with varying levels of smoking intensity. This indicates that the **skewness in `cigsPerDay` is mainly due to the contrast between smokers and non-smokers**, rather than within the smoking group itself. Although a few **unusual values** are seen.\n",
    "\n",
    "- `Hypertensive` individuals show substantially higher and more variable systolic blood pressure (`sysBP`), with **one extreme outlier**. \n",
    "\n",
    "To rule out `data entry irregularities`, let's conduct a `sanity check`, demonstrating whether the `max` values in skewed predictors make sense in a real-world setting."
   ]
  },
  {
   "cell_type": "code",
   "execution_count": null,
   "metadata": {},
   "outputs": [],
   "source": [
    "df[numerical_features].describe(percentiles=[0.01, 0.5, 0.95, 0.99])\n"
   ]
  },
  {
   "cell_type": "markdown",
   "metadata": {},
   "source": [
    "The sanity check revealed several extreme and unlikely values in context of this dataset: \n",
    "\n",
    "- Total cholesterol (`totChol`) has a maximum of `696 mg/dL`, while levels [above 200 mg/dL are already considered high](https://www.cdc.gov/cholesterol/about/index.html). Readings approaching 700 mg/dL could be data anomalies rather than true physiological values.\n",
    "\n",
    "- Systolic blood pressure (`sysBP`) reaches `295 mmHg`, far exceeding [the 180 mmHg threshold for hypertensive crisis, in case of which the American Heart Association suggests to call 911](https://www.heart.org/en/health-topics/high-blood-pressure/understanding-blood-pressure-readings/hypertensive-crisis-when-you-should-call-911-for-high-blood-pressure). Values above `250 mmHg` are uncommon and may indicate a stroke-level crisis or measurement error. Similarly, diastolic blood pressure (`diaBP`) peaks at 142.5 mmHg, well above the normal ≤80 mmHg range.\n",
    "\n",
    "- `glucose` levels hit `394 mg/dL`, a [critical medical emergency that could indicate diabetic ketoacidosis (DKA)](https://www.mayoclinic.org/diseases-conditions/diabetic-ketoacidosis/symptoms-causes/syc-20371551) or a diabetic coma. Such values could require immediate medical attention.\n",
    "\n",
    "- `BMI` reaches `56.8`, an extreme obesity level, but [remains biologically possible](https://pmc.ncbi.nlm.nih.gov/articles/PMC9283149/) as BMI goes to a maximum value of 100.\n",
    "\n",
    "- `cigsPerDay` has a max of 70, which is extremely high even for heavy smokers, but theoretically possible."
   ]
  }
 ],
 "metadata": {
  "kernelspec": {
   "display_name": "M4S4_ML",
   "language": "python",
   "name": "python3"
  },
  "language_info": {
   "codemirror_mode": {
    "name": "ipython",
    "version": 3
   },
   "file_extension": ".py",
   "mimetype": "text/x-python",
   "name": "python",
   "nbconvert_exporter": "python",
   "pygments_lexer": "ipython3",
   "version": "3.13.2"
  }
 },
 "nbformat": 4,
 "nbformat_minor": 2
}
