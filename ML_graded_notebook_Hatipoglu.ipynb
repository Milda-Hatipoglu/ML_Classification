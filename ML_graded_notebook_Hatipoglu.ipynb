{
 "cells": [
  {
   "cell_type": "markdown",
   "metadata": {},
   "source": [
    "# **Predicting 10-Year Coronary Heart Disease (CHD) Risk**  \n",
    "\n",
    "### Cardiovascular diseases are the `leading` global `cause of death`, with `coronary heart disease (CHD)` as the most prevalent, accounting for `13% of global deaths` from 2000 to 2021 ([WHO](https://www.who.int/data/gho/data/themes/mortality-and-global-health-estimates/ghe-leading-causes-of-death)). For instance, in the U.S., nearly half of adults have at least one major CHD risk factor—high blood pressure, high cholesterol, or smoking ([NHLBI](https://www.nhlbi.nih.gov/health/coronary-heart-disease/risk-factors)). The `goal of the project` is to develop a `logistic regression model` to estimate an individual's `10-year CHD probability`, optimizing predictive accuracy, interpretability, and classification effectiveness. The analysis relies on a [Kaggle dataset](https://www.kaggle.com/datasets/christofel04/cardiovascular-study-dataset-predict-heart-disea), allegedly linked to the [Framingham Heart Study](https://www.framinghamheartstudy.org/fhs-about/), a cornerstone in cardiovascular research.\n",
    "  \n",
    "### **Project Roadmap**  \n",
    "\n",
    "| **Section** | **Objective** |\n",
    "|------------|--------------|\n",
    "| 1. Data Cleaning | Load the dataset, inspect structure, handle missing values, and encode categorical variables. |\n",
    "| 2. Exploratory Data Analysis (EDA) | Examine feature distributions, assess correlations, detect & analyze outliers, and evaluate multicollinearity. |\n",
    "| 3. Data Preprocessing | Split data into training and testing sets, apply appropriate scaling, handle outliers, and finalize preprocessing steps before modeling. |\n",
    "| 4. Modeling & Evaluation | Train a logistic regression model, optimize classification threshold, and validate performance on the test set. |\n",
    "| 5. Interpretation & Considerations | Analyze feature importance, assess generalizability, and discuss dataset limitations. |\n",
    "\n",
    "<br>\n",
    "\n",
    "---"
   ]
  },
  {
   "cell_type": "markdown",
   "metadata": {},
   "source": [
    "## **1. Data Cleaning**  \n",
    "\n",
    " ##### The dataset is `loaded and inspected` to understand its composition and detect `missing values` or `duplicates`. Missing data is handled using appropriate imputation techniques to minimize information loss or is dropped if more appropriate. `Categorical variables` are `encoded` into numeric format to ensure compatibility with modeling.\n",
    "\n",
    "### **1.1. Imports & Configurations**\n",
    "\n",
    "Importing essential libraries for data manipulation, visualization, preprocessing, and modeling. Display settings are configured to ensure precision and readability when working with numerical outputs.\n"
   ]
  },
  {
   "cell_type": "code",
   "execution_count": 546,
   "metadata": {},
   "outputs": [],
   "source": [
    "import numpy as np\n",
    "import pandas as pd\n",
    "import matplotlib.pyplot as plt\n",
    "import seaborn as sns\n",
    "\n",
    "from sklearn.model_selection import train_test_split, StratifiedKFold\n",
    "from sklearn.impute import SimpleImputer\n",
    "from sklearn.preprocessing import StandardScaler, RobustScaler, OneHotEncoder\n",
    "from sklearn.linear_model import LogisticRegression\n",
    "from sklearn.metrics import (\n",
    "    accuracy_score, precision_score, recall_score, f1_score,\n",
    "    roc_auc_score, roc_curve, confusion_matrix, classification_report,\n",
    "    precision_recall_curve\n",
    ")\n",
    "\n",
    "import statsmodels.api as sm\n",
    "from statsmodels.stats.outliers_influence import variance_inflation_factor\n",
    "\n",
    "pd.set_option(\"display.float_format\", \"{:.2f}\".format)\n",
    "pd.set_option(\"display.max_columns\", None)\n",
    "pd.set_option(\"display.max_rows\", 50)\n",
    "\n",
    "sns.set_theme(style=\"whitegrid\", palette=\"muted\")"
   ]
  },
  {
   "cell_type": "markdown",
   "metadata": {},
   "source": [
    "### **1.2. Load & Inspect Data**"
   ]
  },
  {
   "cell_type": "code",
   "execution_count": 547,
   "metadata": {},
   "outputs": [
    {
     "name": "stdout",
     "output_type": "stream",
     "text": [
      "Dataset contains 3390 observations and 17 features.\n"
     ]
    }
   ],
   "source": [
    "df = pd.read_csv(\"train.csv\")\n",
    "print(f\"Dataset contains {df.shape[0]} observations and {df.shape[1]} features.\")"
   ]
  },
  {
   "cell_type": "code",
   "execution_count": 548,
   "metadata": {},
   "outputs": [
    {
     "data": {
      "text/plain": [
       "id                   int64\n",
       "age                  int64\n",
       "education          float64\n",
       "sex                 object\n",
       "is_smoking          object\n",
       "cigsPerDay         float64\n",
       "BPMeds             float64\n",
       "prevalentStroke      int64\n",
       "prevalentHyp         int64\n",
       "diabetes             int64\n",
       "totChol            float64\n",
       "sysBP              float64\n",
       "diaBP              float64\n",
       "BMI                float64\n",
       "heartRate          float64\n",
       "glucose            float64\n",
       "TenYearCHD           int64\n",
       "dtype: object"
      ]
     },
     "execution_count": 548,
     "metadata": {},
     "output_type": "execute_result"
    }
   ],
   "source": [
    "df.dtypes"
   ]
  },
  {
   "cell_type": "code",
   "execution_count": 549,
   "metadata": {},
   "outputs": [
    {
     "data": {
      "text/html": [
       "<div>\n",
       "<style scoped>\n",
       "    .dataframe tbody tr th:only-of-type {\n",
       "        vertical-align: middle;\n",
       "    }\n",
       "\n",
       "    .dataframe tbody tr th {\n",
       "        vertical-align: top;\n",
       "    }\n",
       "\n",
       "    .dataframe thead th {\n",
       "        text-align: right;\n",
       "    }\n",
       "</style>\n",
       "<table border=\"1\" class=\"dataframe\">\n",
       "  <thead>\n",
       "    <tr style=\"text-align: right;\">\n",
       "      <th></th>\n",
       "      <th>id</th>\n",
       "      <th>age</th>\n",
       "      <th>education</th>\n",
       "      <th>sex</th>\n",
       "      <th>is_smoking</th>\n",
       "      <th>cigsPerDay</th>\n",
       "      <th>BPMeds</th>\n",
       "      <th>prevalentStroke</th>\n",
       "      <th>prevalentHyp</th>\n",
       "      <th>diabetes</th>\n",
       "      <th>totChol</th>\n",
       "      <th>sysBP</th>\n",
       "      <th>diaBP</th>\n",
       "      <th>BMI</th>\n",
       "      <th>heartRate</th>\n",
       "      <th>glucose</th>\n",
       "      <th>TenYearCHD</th>\n",
       "    </tr>\n",
       "  </thead>\n",
       "  <tbody>\n",
       "    <tr>\n",
       "      <th>134</th>\n",
       "      <td>134</td>\n",
       "      <td>64</td>\n",
       "      <td>1.00</td>\n",
       "      <td>F</td>\n",
       "      <td>NO</td>\n",
       "      <td>0.00</td>\n",
       "      <td>0.00</td>\n",
       "      <td>0</td>\n",
       "      <td>1</td>\n",
       "      <td>1</td>\n",
       "      <td>262.00</td>\n",
       "      <td>147.00</td>\n",
       "      <td>90.00</td>\n",
       "      <td>26.51</td>\n",
       "      <td>85.00</td>\n",
       "      <td>173.00</td>\n",
       "      <td>0</td>\n",
       "    </tr>\n",
       "    <tr>\n",
       "      <th>1764</th>\n",
       "      <td>1764</td>\n",
       "      <td>36</td>\n",
       "      <td>2.00</td>\n",
       "      <td>M</td>\n",
       "      <td>YES</td>\n",
       "      <td>20.00</td>\n",
       "      <td>0.00</td>\n",
       "      <td>0</td>\n",
       "      <td>1</td>\n",
       "      <td>0</td>\n",
       "      <td>248.00</td>\n",
       "      <td>135.00</td>\n",
       "      <td>94.50</td>\n",
       "      <td>36.52</td>\n",
       "      <td>65.00</td>\n",
       "      <td>85.00</td>\n",
       "      <td>0</td>\n",
       "    </tr>\n",
       "    <tr>\n",
       "      <th>2465</th>\n",
       "      <td>2465</td>\n",
       "      <td>61</td>\n",
       "      <td>1.00</td>\n",
       "      <td>M</td>\n",
       "      <td>YES</td>\n",
       "      <td>13.00</td>\n",
       "      <td>0.00</td>\n",
       "      <td>0</td>\n",
       "      <td>0</td>\n",
       "      <td>0</td>\n",
       "      <td>312.00</td>\n",
       "      <td>110.00</td>\n",
       "      <td>66.00</td>\n",
       "      <td>26.28</td>\n",
       "      <td>68.00</td>\n",
       "      <td>96.00</td>\n",
       "      <td>0</td>\n",
       "    </tr>\n",
       "    <tr>\n",
       "      <th>1987</th>\n",
       "      <td>1987</td>\n",
       "      <td>51</td>\n",
       "      <td>2.00</td>\n",
       "      <td>F</td>\n",
       "      <td>NO</td>\n",
       "      <td>0.00</td>\n",
       "      <td>0.00</td>\n",
       "      <td>0</td>\n",
       "      <td>0</td>\n",
       "      <td>0</td>\n",
       "      <td>233.00</td>\n",
       "      <td>120.00</td>\n",
       "      <td>81.00</td>\n",
       "      <td>28.25</td>\n",
       "      <td>80.00</td>\n",
       "      <td>75.00</td>\n",
       "      <td>0</td>\n",
       "    </tr>\n",
       "    <tr>\n",
       "      <th>1295</th>\n",
       "      <td>1295</td>\n",
       "      <td>59</td>\n",
       "      <td>4.00</td>\n",
       "      <td>M</td>\n",
       "      <td>YES</td>\n",
       "      <td>20.00</td>\n",
       "      <td>0.00</td>\n",
       "      <td>0</td>\n",
       "      <td>1</td>\n",
       "      <td>0</td>\n",
       "      <td>232.00</td>\n",
       "      <td>151.50</td>\n",
       "      <td>110.00</td>\n",
       "      <td>26.89</td>\n",
       "      <td>68.00</td>\n",
       "      <td>69.00</td>\n",
       "      <td>0</td>\n",
       "    </tr>\n",
       "  </tbody>\n",
       "</table>\n",
       "</div>"
      ],
      "text/plain": [
       "        id  age  education sex is_smoking  cigsPerDay  BPMeds  \\\n",
       "134    134   64       1.00   F         NO        0.00    0.00   \n",
       "1764  1764   36       2.00   M        YES       20.00    0.00   \n",
       "2465  2465   61       1.00   M        YES       13.00    0.00   \n",
       "1987  1987   51       2.00   F         NO        0.00    0.00   \n",
       "1295  1295   59       4.00   M        YES       20.00    0.00   \n",
       "\n",
       "      prevalentStroke  prevalentHyp  diabetes  totChol  sysBP  diaBP   BMI  \\\n",
       "134                 0             1         1   262.00 147.00  90.00 26.51   \n",
       "1764                0             1         0   248.00 135.00  94.50 36.52   \n",
       "2465                0             0         0   312.00 110.00  66.00 26.28   \n",
       "1987                0             0         0   233.00 120.00  81.00 28.25   \n",
       "1295                0             1         0   232.00 151.50 110.00 26.89   \n",
       "\n",
       "      heartRate  glucose  TenYearCHD  \n",
       "134       85.00   173.00           0  \n",
       "1764      65.00    85.00           0  \n",
       "2465      68.00    96.00           0  \n",
       "1987      80.00    75.00           0  \n",
       "1295      68.00    69.00           0  "
      ]
     },
     "execution_count": 549,
     "metadata": {},
     "output_type": "execute_result"
    }
   ],
   "source": [
    "df.sample(5, random_state=42)"
   ]
  },
  {
   "cell_type": "markdown",
   "metadata": {},
   "source": [
    "`education` is stored as `float64`, which is unusual since it represents categorical order rather than continuous values, requiring further investigation. `BPMeds` is expected to be a binary categorical variable (0 = No, 1 = Yes), but its `float64` format draws attention for further investigation. `sex` and `is_smoking` are stored as object types instead of expected binary categorical features in `int64` format. `id` is a non-informative column and is dropped."
   ]
  },
  {
   "cell_type": "code",
   "execution_count": 550,
   "metadata": {},
   "outputs": [],
   "source": [
    "df.drop(columns=[\"id\"], inplace=True)"
   ]
  },
  {
   "cell_type": "markdown",
   "metadata": {},
   "source": [
    "Checking `unique values per variable` helps ensure precise feature classification—nominal, ordinal, binary, or continuous—guiding appropriate encoding, scaling, and transformation strategies critical for model performance and interpretability."
   ]
  },
  {
   "cell_type": "code",
   "execution_count": 551,
   "metadata": {},
   "outputs": [
    {
     "data": {
      "text/html": [
       "<div>\n",
       "<style scoped>\n",
       "    .dataframe tbody tr th:only-of-type {\n",
       "        vertical-align: middle;\n",
       "    }\n",
       "\n",
       "    .dataframe tbody tr th {\n",
       "        vertical-align: top;\n",
       "    }\n",
       "\n",
       "    .dataframe thead th {\n",
       "        text-align: right;\n",
       "    }\n",
       "</style>\n",
       "<table border=\"1\" class=\"dataframe\">\n",
       "  <thead>\n",
       "    <tr style=\"text-align: right;\">\n",
       "      <th></th>\n",
       "      <th>Unique Values</th>\n",
       "    </tr>\n",
       "  </thead>\n",
       "  <tbody>\n",
       "    <tr>\n",
       "      <th>age</th>\n",
       "      <td>39</td>\n",
       "    </tr>\n",
       "    <tr>\n",
       "      <th>education</th>\n",
       "      <td>4</td>\n",
       "    </tr>\n",
       "    <tr>\n",
       "      <th>sex</th>\n",
       "      <td>2</td>\n",
       "    </tr>\n",
       "    <tr>\n",
       "      <th>is_smoking</th>\n",
       "      <td>2</td>\n",
       "    </tr>\n",
       "    <tr>\n",
       "      <th>cigsPerDay</th>\n",
       "      <td>32</td>\n",
       "    </tr>\n",
       "    <tr>\n",
       "      <th>BPMeds</th>\n",
       "      <td>2</td>\n",
       "    </tr>\n",
       "    <tr>\n",
       "      <th>prevalentStroke</th>\n",
       "      <td>2</td>\n",
       "    </tr>\n",
       "    <tr>\n",
       "      <th>prevalentHyp</th>\n",
       "      <td>2</td>\n",
       "    </tr>\n",
       "    <tr>\n",
       "      <th>diabetes</th>\n",
       "      <td>2</td>\n",
       "    </tr>\n",
       "    <tr>\n",
       "      <th>totChol</th>\n",
       "      <td>240</td>\n",
       "    </tr>\n",
       "    <tr>\n",
       "      <th>sysBP</th>\n",
       "      <td>226</td>\n",
       "    </tr>\n",
       "    <tr>\n",
       "      <th>diaBP</th>\n",
       "      <td>142</td>\n",
       "    </tr>\n",
       "    <tr>\n",
       "      <th>BMI</th>\n",
       "      <td>1259</td>\n",
       "    </tr>\n",
       "    <tr>\n",
       "      <th>heartRate</th>\n",
       "      <td>68</td>\n",
       "    </tr>\n",
       "    <tr>\n",
       "      <th>glucose</th>\n",
       "      <td>132</td>\n",
       "    </tr>\n",
       "    <tr>\n",
       "      <th>TenYearCHD</th>\n",
       "      <td>2</td>\n",
       "    </tr>\n",
       "  </tbody>\n",
       "</table>\n",
       "</div>"
      ],
      "text/plain": [
       "                 Unique Values\n",
       "age                         39\n",
       "education                    4\n",
       "sex                          2\n",
       "is_smoking                   2\n",
       "cigsPerDay                  32\n",
       "BPMeds                       2\n",
       "prevalentStroke              2\n",
       "prevalentHyp                 2\n",
       "diabetes                     2\n",
       "totChol                    240\n",
       "sysBP                      226\n",
       "diaBP                      142\n",
       "BMI                       1259\n",
       "heartRate                   68\n",
       "glucose                    132\n",
       "TenYearCHD                   2"
      ]
     },
     "metadata": {},
     "output_type": "display_data"
    }
   ],
   "source": [
    "display(df.nunique().to_frame(\"Unique Values\"))"
   ]
  },
  {
   "cell_type": "code",
   "execution_count": 552,
   "metadata": {},
   "outputs": [
    {
     "name": "stdout",
     "output_type": "stream",
     "text": [
      "education (float64): [2. 4. 1. 3.]\n",
      "sex (object): ['F' 'M']\n",
      "is_smoking (object): ['YES' 'NO']\n",
      "BPMeds (float64): [0. 1.]\n"
     ]
    }
   ],
   "source": [
    "for col in [\"education\", \"sex\", \"is_smoking\", \"BPMeds\"]:\n",
    "    unique_vals = df[col].dropna().unique()\n",
    "    print(f\"{col} ({df[col].dtype}): {unique_vals}\")"
   ]
  },
  {
   "cell_type": "markdown",
   "metadata": {},
   "source": [
    "**Feature Classification**\n",
    "\n",
    "| Type              | Features  | Notes |\n",
    "|--------------------------------|---------------|-----------|\n",
    "| Nominal Categorical        | `sex` (Gender: M/F), `is_smoking` (Smoking status: YES/NO) | Needs encoding into `binary categorical` in `int64` |\n",
    "| Ordinal Categorical        | `education` (Education level: 1-4, ordered but not continuous) | `education` needs casting to `int64`, treated as ordinal categorical |\n",
    "| Binary Categorical         | `BPMeds` (Blood pressure medication), `prevalentStroke` (Stroke history), `prevalentHyp` (Hypertension history), `diabetes` (Diabetes history), `TenYearCHD` (10-year CHD risk, target variable) | `BPMeds` needs casting to `int64`, treated as binary categorical |\n",
    "| Continuous Numeric                | `age` (Age in years, treated as continuous), `cigsPerDay` (Cigarettes per day), `totChol` (Total cholesterol level), `sysBP` (Systolic blood pressure), `diaBP` (Diastolic blood pressure), `BMI` (Body Mass Index), `heartRate` (Heart rate in beats per minute), `glucose` (Blood glucose level) | No changes needed, keep as `float64` |"
   ]
  },
  {
   "cell_type": "markdown",
   "metadata": {},
   "source": [
    "> ⚠️ **Disclaimer.** Feature value casting and encoding will be performed **after** addressing duplicates and missing values. \n"
   ]
  },
  {
   "cell_type": "markdown",
   "metadata": {},
   "source": [
    "### **1.3. Handling Duplicate Observations**"
   ]
  },
  {
   "cell_type": "code",
   "execution_count": 553,
   "metadata": {},
   "outputs": [
    {
     "name": "stdout",
     "output_type": "stream",
     "text": [
      "\n",
      "✅ This dataset has 0 duplicated observations.\n"
     ]
    }
   ],
   "source": [
    "print(f\"\\n✅ This dataset has {df.duplicated().sum()} duplicated observations.\")"
   ]
  },
  {
   "cell_type": "markdown",
   "metadata": {},
   "source": [
    "### **1.4. Handling Missing Values**"
   ]
  },
  {
   "cell_type": "code",
   "execution_count": 554,
   "metadata": {},
   "outputs": [
    {
     "name": "stdout",
     "output_type": "stream",
     "text": [
      "Total missing: 510 (0.94%)\n"
     ]
    },
    {
     "data": {
      "text/html": [
       "<div>\n",
       "<style scoped>\n",
       "    .dataframe tbody tr th:only-of-type {\n",
       "        vertical-align: middle;\n",
       "    }\n",
       "\n",
       "    .dataframe tbody tr th {\n",
       "        vertical-align: top;\n",
       "    }\n",
       "\n",
       "    .dataframe thead th {\n",
       "        text-align: right;\n",
       "    }\n",
       "</style>\n",
       "<table border=\"1\" class=\"dataframe\">\n",
       "  <thead>\n",
       "    <tr style=\"text-align: right;\">\n",
       "      <th></th>\n",
       "      <th>Missing Values</th>\n",
       "      <th>Percentage</th>\n",
       "    </tr>\n",
       "  </thead>\n",
       "  <tbody>\n",
       "    <tr>\n",
       "      <th>education</th>\n",
       "      <td>87</td>\n",
       "      <td>2.57</td>\n",
       "    </tr>\n",
       "    <tr>\n",
       "      <th>cigsPerDay</th>\n",
       "      <td>22</td>\n",
       "      <td>0.65</td>\n",
       "    </tr>\n",
       "    <tr>\n",
       "      <th>BPMeds</th>\n",
       "      <td>44</td>\n",
       "      <td>1.30</td>\n",
       "    </tr>\n",
       "    <tr>\n",
       "      <th>totChol</th>\n",
       "      <td>38</td>\n",
       "      <td>1.12</td>\n",
       "    </tr>\n",
       "    <tr>\n",
       "      <th>BMI</th>\n",
       "      <td>14</td>\n",
       "      <td>0.41</td>\n",
       "    </tr>\n",
       "    <tr>\n",
       "      <th>heartRate</th>\n",
       "      <td>1</td>\n",
       "      <td>0.03</td>\n",
       "    </tr>\n",
       "    <tr>\n",
       "      <th>glucose</th>\n",
       "      <td>304</td>\n",
       "      <td>8.97</td>\n",
       "    </tr>\n",
       "  </tbody>\n",
       "</table>\n",
       "</div>"
      ],
      "text/plain": [
       "            Missing Values  Percentage\n",
       "education               87        2.57\n",
       "cigsPerDay              22        0.65\n",
       "BPMeds                  44        1.30\n",
       "totChol                 38        1.12\n",
       "BMI                     14        0.41\n",
       "heartRate                1        0.03\n",
       "glucose                304        8.97"
      ]
     },
     "metadata": {},
     "output_type": "display_data"
    }
   ],
   "source": [
    "missing = df.isnull().sum().pipe(lambda x: x[x > 0])\n",
    "print(f\"Total missing: {missing.sum()} ({(missing.sum() / df.size * 100):.2f}%)\")\n",
    "display(missing.to_frame(\"Missing Values\").assign(Percentage=lambda x: (x / len(df) * 100).round(2)))"
   ]
  },
  {
   "cell_type": "markdown",
   "metadata": {},
   "source": [
    "The dataset has missing values in **7 features**, with `glucose` missing the most **(8.97%)**, requiring careful handling. Other variables, including `education`, `cigsPerDay`, `BPMeds`, `totChol`, and `BMI`, have **low missingness (<3%)**, making median or mode imputation suitable. `heartRate` has only **one missing value (0.03%)** and can be **safely dropped or imputed without impact**."
   ]
  },
  {
   "cell_type": "markdown",
   "metadata": {},
   "source": [
    "#### **1.4.1. Categoricals Variables (`education`, `BPMeds`)**\n",
    "\n",
    "`Mode imputation` is best for categorical variables since it replaces missing values with the most common category."
   ]
  },
  {
   "cell_type": "code",
   "execution_count": 555,
   "metadata": {},
   "outputs": [
    {
     "name": "stdout",
     "output_type": "stream",
     "text": [
      "✅ 0 missing values in 'education'\n",
      "✅ 0 missing values in 'BPMeds'\n"
     ]
    }
   ],
   "source": [
    "mode_imputer = SimpleImputer(strategy=\"most_frequent\")\n",
    "\n",
    "df[[\"education\", \"BPMeds\"]] = mode_imputer.fit_transform(df[[\"education\", \"BPMeds\"]])\n",
    "\n",
    "df[\"education\"] = df[\"education\"].astype(int)\n",
    "df[\"BPMeds\"] = df[\"BPMeds\"].astype(int)\n",
    "\n",
    "print(f\"✅ {df['education'].isnull().sum()} missing values in 'education'\")\n",
    "print(f\"✅ {df['BPMeds'].isnull().sum()} missing values in 'BPMeds'\" )"
   ]
  },
  {
   "cell_type": "markdown",
   "metadata": {},
   "source": [
    "#### **1.4.2. Numerical Variables (`glucose`, `cigsPerDay`, `totChol`, `BMI`, `heartRate`**\n",
    "\n",
    "`glucose` and `cigsPerDay` are handled separately from other numerical variables because the missing values are imputed using `group-wise median imputation` to preserve the natural distribution of glucose levels across different health conditions and separate smokers from non-smokers. Instead of a single median, separate median values for `diabetic` and `non-diabetic`, as well as `smoker` and `non-smoker` individuals are computed."
   ]
  },
  {
   "cell_type": "code",
   "execution_count": 556,
   "metadata": {},
   "outputs": [
    {
     "name": "stdout",
     "output_type": "stream",
     "text": [
      "Missing values in glucose: 0\n",
      "Missing values in cigsPerDay: 0\n"
     ]
    }
   ],
   "source": [
    "glucose_median_map = df.groupby(\"diabetes\")[\"glucose\"].median().to_dict()\n",
    "df.loc[df[\"glucose\"].isnull(), \"glucose\"] = df[\"diabetes\"].map(glucose_median_map)\n",
    "\n",
    "\n",
    "cigs_median_smokers = df.loc[df[\"is_smoking\"] == \"YES\", \"cigsPerDay\"].median()\n",
    "df.loc[df[\"is_smoking\"] == \"NO\", \"cigsPerDay\"] = df.loc[df[\"is_smoking\"] == \"NO\", \"cigsPerDay\"].fillna(0)\n",
    "df.loc[(df[\"is_smoking\"] == \"YES\") & (df[\"cigsPerDay\"].isnull()), \"cigsPerDay\"] = cigs_median_smokers\n",
    "\n",
    "print(f\"Missing values in glucose: {df['glucose'].isnull().sum()}\")\n",
    "print(f\"Missing values in cigsPerDay: {df['cigsPerDay'].isnull().sum()}\")\n"
   ]
  },
  {
   "cell_type": "code",
   "execution_count": 557,
   "metadata": {},
   "outputs": [
    {
     "name": "stdout",
     "output_type": "stream",
     "text": [
      "Missing values in totChol: 0\n",
      "Missing values in BMI: 0\n",
      "Missing values in heartRate: 0\n"
     ]
    }
   ],
   "source": [
    "median_imputer = SimpleImputer(strategy=\"median\")\n",
    "\n",
    "df[[\"totChol\", \"BMI\", \"heartRate\"]] = median_imputer.fit_transform(df[[\"totChol\", \"BMI\", \"heartRate\"]])\n",
    "\n",
    "print(f\"Missing values in totChol: {df['totChol'].isnull().sum()}\")\n",
    "print(f\"Missing values in BMI: {df['BMI'].isnull().sum()}\")\n",
    "print(f\"Missing values in heartRate: {df['heartRate'].isnull().sum()}\")"
   ]
  },
  {
   "cell_type": "code",
   "execution_count": 558,
   "metadata": {},
   "outputs": [
    {
     "name": "stdout",
     "output_type": "stream",
     "text": [
      "✅ No missing values remain in the dataset!\n"
     ]
    }
   ],
   "source": [
    "missing_summary = df.isnull().sum()\n",
    "missing_summary = missing_summary[missing_summary > 0]\n",
    "\n",
    "if missing_summary.empty:\n",
    "    print(\"✅ No missing values remain in the dataset!\")\n",
    "else:\n",
    "    print(\"⚠️ Missing values still exist in the following columns:\")\n",
    "    print(missing_summary)"
   ]
  },
  {
   "cell_type": "markdown",
   "metadata": {},
   "source": [
    "### **1.5 Encoding Nominal Categorical Variables**"
   ]
  },
  {
   "cell_type": "markdown",
   "metadata": {},
   "source": [
    "---"
   ]
  }
 ],
 "metadata": {
  "kernelspec": {
   "display_name": "M4S4_ML",
   "language": "python",
   "name": "python3"
  },
  "language_info": {
   "codemirror_mode": {
    "name": "ipython",
    "version": 3
   },
   "file_extension": ".py",
   "mimetype": "text/x-python",
   "name": "python",
   "nbconvert_exporter": "python",
   "pygments_lexer": "ipython3",
   "version": "3.13.2"
  }
 },
 "nbformat": 4,
 "nbformat_minor": 2
}
